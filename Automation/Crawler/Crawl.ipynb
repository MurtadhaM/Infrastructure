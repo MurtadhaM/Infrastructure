{
 "cells": [
  {
   "cell_type": "markdown",
   "metadata": {},
   "source": [
    "# Automatic Web-Scraping"
   ]
  },
  {
   "cell_type": "code",
   "execution_count": 76,
   "metadata": {},
   "outputs": [
    {
     "name": "stdout",
     "output_type": "stream",
     "text": [
      "Defaulting to user installation because normal site-packages is not writeable"
     ]
    },
    {
     "name": "stdout",
     "output_type": "stream",
     "text": [
      "\n",
      "Requirement already satisfied: requests in c:\\users\\mmarz\\appdata\\local\\packages\\pythonsoftwarefoundation.python.3.12_qbz5n2kfra8p0\\localcache\\local-packages\\python312\\site-packages (2.31.0)\n",
      "Requirement already satisfied: bs4 in c:\\users\\mmarz\\appdata\\local\\packages\\pythonsoftwarefoundation.python.3.12_qbz5n2kfra8p0\\localcache\\local-packages\\python312\\site-packages (0.0.2)\n",
      "Requirement already satisfied: stem in c:\\users\\mmarz\\appdata\\local\\packages\\pythonsoftwarefoundation.python.3.12_qbz5n2kfra8p0\\localcache\\local-packages\\python312\\site-packages (1.8.2)\n",
      "Requirement already satisfied: socks in c:\\users\\mmarz\\appdata\\local\\packages\\pythonsoftwarefoundation.python.3.12_qbz5n2kfra8p0\\localcache\\local-packages\\python312\\site-packages (0)\n",
      "Requirement already satisfied: tor in c:\\users\\mmarz\\appdata\\local\\packages\\pythonsoftwarefoundation.python.3.12_qbz5n2kfra8p0\\localcache\\local-packages\\python312\\site-packages (1.0.0)\n",
      "Requirement already satisfied: urllib3[socks] in c:\\users\\mmarz\\appdata\\local\\packages\\pythonsoftwarefoundation.python.3.12_qbz5n2kfra8p0\\localcache\\local-packages\\python312\\site-packages (2.2.1)\n",
      "Requirement already satisfied: charset-normalizer<4,>=2 in c:\\users\\mmarz\\appdata\\local\\packages\\pythonsoftwarefoundation.python.3.12_qbz5n2kfra8p0\\localcache\\local-packages\\python312\\site-packages (from requests) (3.3.2)\n",
      "Requirement already satisfied: idna<4,>=2.5 in c:\\users\\mmarz\\appdata\\local\\packages\\pythonsoftwarefoundation.python.3.12_qbz5n2kfra8p0\\localcache\\local-packages\\python312\\site-packages (from requests) (3.6)\n",
      "Requirement already satisfied: certifi>=2017.4.17 in c:\\users\\mmarz\\appdata\\local\\packages\\pythonsoftwarefoundation.python.3.12_qbz5n2kfra8p0\\localcache\\local-packages\\python312\\site-packages (from requests) (2024.2.2)\n",
      "Requirement already satisfied: beautifulsoup4 in c:\\users\\mmarz\\appdata\\local\\packages\\pythonsoftwarefoundation.python.3.12_qbz5n2kfra8p0\\localcache\\local-packages\\python312\\site-packages (from bs4) (4.12.3)\n",
      "Requirement already satisfied: PySocks!=1.5.7,>=1.5.6 in c:\\users\\mmarz\\appdata\\local\\packages\\pythonsoftwarefoundation.python.3.12_qbz5n2kfra8p0\\localcache\\local-packages\\python312\\site-packages (from requests[socks]) (1.7.1)\n",
      "Requirement already satisfied: soupsieve>1.2 in c:\\users\\mmarz\\appdata\\local\\packages\\pythonsoftwarefoundation.python.3.12_qbz5n2kfra8p0\\localcache\\local-packages\\python312\\site-packages (from beautifulsoup4->bs4) (2.5)\n"
     ]
    }
   ],
   "source": [
    "# INSTALL TOR,BS4,REQUESTS,SOCKS,STEM,SOCKSPROXY,OS\n",
    "!pip install requests bs4 stem requests[socks] socks urllib3[socks] tor\n",
    "import os\n",
    "import requests\n",
    "from bs4 import BeautifulSoup\n",
    "import socks\n",
    "import socket\n",
    "import urllib.request\n",
    "import os\n",
    "import time\n",
    "import colorama\n",
    "from colorama import Fore, Back, Style\n",
    "from bs4 import BeautifulSoup\n"
   ]
  },
  {
   "cell_type": "code",
   "execution_count": 79,
   "metadata": {},
   "outputs": [],
   "source": [
    "\n",
    "\n",
    "class Tor:\n",
    "    def __init__(self):\n",
    "        self.save_response = False\n",
    "        self.ip = '127.0.0.1'\n",
    "        self.port = 9050\n",
    "        self.control_port = 9051\n",
    "        self.headers = {\n",
    "            'User-Agent': 'Mozilla/5.0 (Windows NT 10.0; Win64; x64) AppleWebKit/537.36 (KHTML, like Gecko) Chrome/58.0.3029.110 Safari/537.3'}\n",
    "        self.session = requests.session()\n",
    "        self.session.proxies = {\n",
    "            'http': 'socks5://{}:{}'.format(self.ip, self.port),\n",
    "            'https': 'socks5://{}:{}'.format(self.ip, self.port)\n",
    "        }\n",
    "        # Startup Message\n",
    "        print('-------------------------------')\n",
    "        print(Fore.YELLOW + 'Starting Tor...')\n",
    "        print(Fore.GREEN + 'Public IP: ' + Fore.RED + self.get_ip())\n",
    "\n",
    "\n",
    "    def renew_tor(self):\n",
    "        with socket.socket(socket.AF_INET, socket.SOCK_STREAM) as s:\n",
    "            s.connect(('127.0.0.1', 9051))\n",
    "            print('-------------------------------')\n",
    "            print(Fore.GREEN + 'Renewing IP...')\n",
    "            TOR_PASSWORD = os.environ.get('TOR_PASSWORD') or 'my_password'\n",
    "            s.send('AUTHENTICATE \"{}\"\\r\\n'.format(TOR_PASSWORD).encode())\n",
    "            response = s.recv(128)\n",
    "            if response != b'250 OK\\r\\n':\n",
    "                print(response)\n",
    "                raise ValueError('Unexpected response')\n",
    "            s.send(\"signal NEWNYM\\r\\n\".encode())\n",
    "            response = s.recv(128)\n",
    "            if response != b'250 OK\\r\\n':\n",
    "                print(response)\n",
    "                raise ValueError('Unexpected response')\n",
    "        self.session = requests.session()\n",
    "        self.session.proxies = {\n",
    "            'http': 'socks5://{}:{}'.format(self.ip, self.port),\n",
    "            'https': 'socks5://{}:{}'.format(self.ip, self.port)\n",
    "        }            \n",
    "        \n",
    "    \n",
    "    \n",
    "    def get(self, url):\n",
    "        if self.save_response:\n",
    "            response = self.session.get(url, headers=self.headers).text\n",
    "            self.save_page(response)\n",
    "            return response\n",
    "        else:\n",
    "            return self.session.get(url, headers=self.headers).text\n",
    "        \n",
    "    \n",
    "    def get_ip(self):\n",
    "        return self.get('http://httpbin.org/ip')\n",
    "    \n",
    "    def save_page(self,response):\n",
    "        with open('responses/'+str(time.time())+'.html','w',encoding=\"utf-8\") as f:\n",
    "            f.write(response)\n",
    "    "
   ]
  },
  {
   "cell_type": "code",
   "execution_count": null,
   "metadata": {},
   "outputs": [],
   "source": [
    "# Example\n",
    "\n",
    "# Example\n",
    "colorama.init(autoreset=True)\n",
    "print(Fore.RED + 'Instanciating Tor')\n",
    "tor = Tor()\n",
    "# Make a request\n",
    "print(Fore.GREEN + 'Making Request...')\n",
    "response = tor.get('https://www.google.com')\n",
    "# Renew IP\n",
    "print(Fore.GREEN + 'Renewing IP...')\n",
    "tor.renew_tor()\n",
    "# Get IP\n",
    "print(Fore.GREEN + 'Getting IP...')\n",
    "print(Fore.RED + tor.get_ip())\n",
    "# Make a request\n",
    "print(Fore.GREEN + 'Making Request...')\n",
    "tor.save_response = True\n",
    "response = tor.get('https://www.google.com')\n"
   ]
  }
 ],
 "metadata": {
  "kernelspec": {
   "display_name": "Python 3",
   "language": "python",
   "name": "python3"
  },
  "language_info": {
   "codemirror_mode": {
    "name": "ipython",
    "version": 3
   },
   "file_extension": ".py",
   "mimetype": "text/x-python",
   "name": "python",
   "nbconvert_exporter": "python",
   "pygments_lexer": "ipython3",
   "version": "3.12.2"
  }
 },
 "nbformat": 4,
 "nbformat_minor": 2
}
